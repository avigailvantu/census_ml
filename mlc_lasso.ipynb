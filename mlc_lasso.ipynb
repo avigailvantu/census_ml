{
 "cells": [
  {
   "cell_type": "code",
   "execution_count": 1,
   "metadata": {
    "collapsed": true
   },
   "outputs": [],
   "source": [
    "import scipy.stats as stats\n",
    "import os\n",
    "import numpy as np\n",
    "import pandas as pd\n",
    "import random\n",
    "import re\n",
    "%matplotlib inline\n",
    "import statsmodels.formula.api as sm\n",
    "from pandas.stats.api import ols\n",
    "import pylab\n",
    "import matplotlib.pyplot as plt\n",
    "from sklearn import linear_model\n",
    "import math"
   ]
  },
  {
   "cell_type": "code",
   "execution_count": 2,
   "metadata": {
    "collapsed": false
   },
   "outputs": [],
   "source": [
    "data = pd.read_csv('DB_foranalysis.csv')"
   ]
  },
  {
   "cell_type": "code",
   "execution_count": 4,
   "metadata": {
    "collapsed": true
   },
   "outputs": [],
   "source": [
    "import statsmodels.formula.api as smf\n",
    "import statsmodels.api as sm"
   ]
  },
  {
   "cell_type": "code",
   "execution_count": 6,
   "metadata": {
    "collapsed": false
   },
   "outputs": [
    {
     "data": {
      "text/html": [
       "<div>\n",
       "<table border=\"1\" class=\"dataframe\">\n",
       "  <thead>\n",
       "    <tr style=\"text-align: right;\">\n",
       "      <th></th>\n",
       "      <th>Neighborhoods</th>\n",
       "      <th>MSE</th>\n",
       "      <th>x</th>\n",
       "      <th>y</th>\n",
       "      <th>Avg_Familysize</th>\n",
       "      <th>Avg_ENG</th>\n",
       "      <th>Avg_School</th>\n",
       "      <th>Avg_Income</th>\n",
       "    </tr>\n",
       "  </thead>\n",
       "  <tbody>\n",
       "    <tr>\n",
       "      <th>0</th>\n",
       "      <td>sunset-park</td>\n",
       "      <td>0.000713</td>\n",
       "      <td>-73.982874</td>\n",
       "      <td>40.641335</td>\n",
       "      <td>3.864400</td>\n",
       "      <td>3256.000</td>\n",
       "      <td>69.920000</td>\n",
       "      <td>0.706214</td>\n",
       "    </tr>\n",
       "    <tr>\n",
       "      <th>1</th>\n",
       "      <td>flushing</td>\n",
       "      <td>0.000223</td>\n",
       "      <td>-73.816388</td>\n",
       "      <td>40.759428</td>\n",
       "      <td>3.383333</td>\n",
       "      <td>3476.375</td>\n",
       "      <td>39.208333</td>\n",
       "      <td>0.593954</td>\n",
       "    </tr>\n",
       "  </tbody>\n",
       "</table>\n",
       "</div>"
      ],
      "text/plain": [
       "  Neighborhoods       MSE          x          y  Avg_Familysize   Avg_ENG  \\\n",
       "0   sunset-park  0.000713 -73.982874  40.641335        3.864400  3256.000   \n",
       "1      flushing  0.000223 -73.816388  40.759428        3.383333  3476.375   \n",
       "\n",
       "   Avg_School  Avg_Income  \n",
       "0   69.920000    0.706214  \n",
       "1   39.208333    0.593954  "
      ]
     },
     "execution_count": 6,
     "metadata": {},
     "output_type": "execute_result"
    }
   ],
   "source": [
    "data.head(2)"
   ]
  },
  {
   "cell_type": "code",
   "execution_count": 62,
   "metadata": {
    "collapsed": false
   },
   "outputs": [
    {
     "name": "stdout",
     "output_type": "stream",
     "text": [
      "(225, 4)\n",
      "(225,)\n"
     ]
    }
   ],
   "source": [
    "#data preperation\n",
    "data_y = np.asarray(data.iloc[:,1])\n",
    "data_x = np.asarray(data.iloc[:,4:8])\n",
    "print data_x.shape\n",
    "print data_y.shape"
   ]
  },
  {
   "cell_type": "code",
   "execution_count": 78,
   "metadata": {
    "collapsed": false
   },
   "outputs": [
    {
     "name": "stdout",
     "output_type": "stream",
     "text": [
      "0    0.000713\n",
      "1    0.000223\n",
      "2    0.000019\n",
      "3    0.000046\n",
      "4    0.000021\n",
      "Name: MSE, dtype: float64\n",
      "   Avg_Familysize      Avg_ENG  Avg_School  Avg_Income\n",
      "0        3.864400  3256.000000   69.920000    0.706214\n",
      "1        3.383333  3476.375000   39.208333    0.593954\n",
      "2        3.272222  3796.111111   53.518519    0.563156\n",
      "3        3.272222  3796.111111   53.518519    0.563156\n",
      "4        3.285000  3610.500000   51.833333    0.683494\n"
     ]
    }
   ],
   "source": [
    "#making sure I have the right x and y \n",
    "print data.iloc[:,1].head()\n",
    "print data.iloc[:,4:8].head()"
   ]
  },
  {
   "cell_type": "code",
   "execution_count": 64,
   "metadata": {
    "collapsed": false
   },
   "outputs": [
    {
     "data": {
      "text/html": [
       "<table class=\"simpletable\">\n",
       "<caption>OLS Regression Results</caption>\n",
       "<tr>\n",
       "  <th>Dep. Variable:</th>            <td>y</td>        <th>  R-squared:         </th> <td>   0.020</td>\n",
       "</tr>\n",
       "<tr>\n",
       "  <th>Model:</th>                   <td>OLS</td>       <th>  Adj. R-squared:    </th> <td>   0.002</td>\n",
       "</tr>\n",
       "<tr>\n",
       "  <th>Method:</th>             <td>Least Squares</td>  <th>  F-statistic:       </th> <td>   1.107</td>\n",
       "</tr>\n",
       "<tr>\n",
       "  <th>Date:</th>             <td>Mon, 18 Apr 2016</td> <th>  Prob (F-statistic):</th>  <td> 0.354</td> \n",
       "</tr>\n",
       "<tr>\n",
       "  <th>Time:</th>                 <td>19:20:13</td>     <th>  Log-Likelihood:    </th> <td> -1797.6</td>\n",
       "</tr>\n",
       "<tr>\n",
       "  <th>No. Observations:</th>      <td>   225</td>      <th>  AIC:               </th> <td>   3603.</td>\n",
       "</tr>\n",
       "<tr>\n",
       "  <th>Df Residuals:</th>          <td>   221</td>      <th>  BIC:               </th> <td>   3617.</td>\n",
       "</tr>\n",
       "<tr>\n",
       "  <th>Df Model:</th>              <td>     4</td>      <th>                     </th>     <td> </td>   \n",
       "</tr>\n",
       "<tr>\n",
       "  <th>Covariance Type:</th>      <td>nonrobust</td>    <th>                     </th>     <td> </td>   \n",
       "</tr>\n",
       "</table>\n",
       "<table class=\"simpletable\">\n",
       "<tr>\n",
       "   <td></td>     <th>coef</th>     <th>std err</th>      <th>t</th>      <th>P>|t|</th> <th>[95.0% Conf. Int.]</th> \n",
       "</tr>\n",
       "<tr>\n",
       "  <th>x1</th> <td>  123.3569</td> <td>   81.268</td> <td>    1.518</td> <td> 0.130</td> <td>  -36.803   283.517</td>\n",
       "</tr>\n",
       "<tr>\n",
       "  <th>x2</th> <td>    0.0349</td> <td>    0.043</td> <td>    0.814</td> <td> 0.416</td> <td>   -0.050     0.119</td>\n",
       "</tr>\n",
       "<tr>\n",
       "  <th>x3</th> <td>   -2.2031</td> <td>    2.706</td> <td>   -0.814</td> <td> 0.416</td> <td>   -7.536     3.130</td>\n",
       "</tr>\n",
       "<tr>\n",
       "  <th>x4</th> <td> -603.4686</td> <td>  394.022</td> <td>   -1.532</td> <td> 0.127</td> <td>-1379.991   173.053</td>\n",
       "</tr>\n",
       "</table>\n",
       "<table class=\"simpletable\">\n",
       "<tr>\n",
       "  <th>Omnibus:</th>       <td>499.336</td> <th>  Durbin-Watson:     </th>  <td>   1.999</td> \n",
       "</tr>\n",
       "<tr>\n",
       "  <th>Prob(Omnibus):</th> <td> 0.000</td>  <th>  Jarque-Bera (JB):  </th> <td>436855.963</td>\n",
       "</tr>\n",
       "<tr>\n",
       "  <th>Skew:</th>          <td>14.590</td>  <th>  Prob(JB):          </th>  <td>    0.00</td> \n",
       "</tr>\n",
       "<tr>\n",
       "  <th>Kurtosis:</th>      <td>216.884</td> <th>  Cond. No.          </th>  <td>3.48e+04</td> \n",
       "</tr>\n",
       "</table>"
      ],
      "text/plain": [
       "<class 'statsmodels.iolib.summary.Summary'>\n",
       "\"\"\"\n",
       "                            OLS Regression Results                            \n",
       "==============================================================================\n",
       "Dep. Variable:                      y   R-squared:                       0.020\n",
       "Model:                            OLS   Adj. R-squared:                  0.002\n",
       "Method:                 Least Squares   F-statistic:                     1.107\n",
       "Date:                Mon, 18 Apr 2016   Prob (F-statistic):              0.354\n",
       "Time:                        19:20:13   Log-Likelihood:                -1797.6\n",
       "No. Observations:                 225   AIC:                             3603.\n",
       "Df Residuals:                     221   BIC:                             3617.\n",
       "Df Model:                           4                                         \n",
       "Covariance Type:            nonrobust                                         \n",
       "==============================================================================\n",
       "                 coef    std err          t      P>|t|      [95.0% Conf. Int.]\n",
       "------------------------------------------------------------------------------\n",
       "x1           123.3569     81.268      1.518      0.130       -36.803   283.517\n",
       "x2             0.0349      0.043      0.814      0.416        -0.050     0.119\n",
       "x3            -2.2031      2.706     -0.814      0.416        -7.536     3.130\n",
       "x4          -603.4686    394.022     -1.532      0.127     -1379.991   173.053\n",
       "==============================================================================\n",
       "Omnibus:                      499.336   Durbin-Watson:                   1.999\n",
       "Prob(Omnibus):                  0.000   Jarque-Bera (JB):           436855.963\n",
       "Skew:                          14.590   Prob(JB):                         0.00\n",
       "Kurtosis:                     216.884   Cond. No.                     3.48e+04\n",
       "==============================================================================\n",
       "\n",
       "Warnings:\n",
       "[1] Standard Errors assume that the covariance matrix of the errors is correctly specified.\n",
       "[2] The condition number is large, 3.48e+04. This might indicate that there are\n",
       "strong multicollinearity or other numerical problems.\n",
       "\"\"\""
      ]
     },
     "execution_count": 64,
     "metadata": {},
     "output_type": "execute_result"
    }
   ],
   "source": [
    "#OLS multivariave model\n",
    "mod = sm.OLS(data_y,data_x).fit()\n",
    "mod.summary()"
   ]
  },
  {
   "cell_type": "code",
   "execution_count": 85,
   "metadata": {
    "collapsed": false
   },
   "outputs": [
    {
     "name": "stdout",
     "output_type": "stream",
     "text": [
      "y test size (45,)\n",
      "y train size (180,)\n",
      "x test size (45, 4)\n",
      "x train size (180, 4)\n"
     ]
    }
   ],
   "source": [
    "# train and test data sets divided 80 / 20 % \n",
    "# train 80%  and test 20% \n",
    "\n",
    "y_test = np.asarray(data.iloc[-45:,1])\n",
    "y_train = np.asarray(data.iloc[45:,1])\n",
    "\n",
    "x_test = np.asarray(data.iloc[-45:,4:8])\n",
    "x_train = np.asarray(data.iloc[45:,4:8])\n",
    "\n",
    "print 'y test size',y_test.shape\n",
    "print 'y train size',y_train.shape\n",
    "\n",
    "print 'x test size',x_test.shape\n",
    "print 'x train size',x_train.shape"
   ]
  },
  {
   "cell_type": "markdown",
   "metadata": {},
   "source": [
    "### LASSO"
   ]
  },
  {
   "cell_type": "code",
   "execution_count": 86,
   "metadata": {
    "collapsed": false
   },
   "outputs": [
    {
     "name": "stdout",
     "output_type": "stream",
     "text": [
      "The R-squared we found for IS Lasso(If we set intercept= False) is:\n",
      " 0.00659011062481\n"
     ]
    }
   ],
   "source": [
    "Lasso=linear_model.Lasso(fit_intercept=False, alpha=50,max_iter=100000)\n",
    "Lasso.fit(x_train,y_train)\n",
    "p_IS=Lasso.predict(x_train)\n",
    "err_IS=p_IS-y_train\n",
    "R_2_IS_Lasso=1-np.var(err_IS)/np.var(y_train)\n",
    "print(\"The R-squared we found for IS Lasso(If we set intercept= False) is:\\n {0}\".format(R_2_IS_Lasso))"
   ]
  },
  {
   "cell_type": "code",
   "execution_count": 84,
   "metadata": {
    "collapsed": false
   },
   "outputs": [
    {
     "name": "stdout",
     "output_type": "stream",
     "text": [
      "The R-squared we found for OS Lasso(if we set intercept=False) is:\n",
      " -9971.74625528\n"
     ]
    }
   ],
   "source": [
    "Lasso_coef=Lasso.coef_\n",
    "#Out of sample:\n",
    "p_OS=Lasso.predict(x_test)\n",
    "err_OS=p_OS-y_test\n",
    "R_2_OS_Lasso=1-np.var(err_OS)/np.var(y_test)\n",
    "print(\"The R-squared we found for OS Lasso(if we set intercept=False) is:\\n {0}\".format(R_2_OS_Lasso))"
   ]
  },
  {
   "cell_type": "markdown",
   "metadata": {},
   "source": [
    "#### lasso coefficients"
   ]
  },
  {
   "cell_type": "code",
   "execution_count": 61,
   "metadata": {
    "collapsed": false
   },
   "outputs": [
    {
     "data": {
      "text/plain": [
       "[0.0, 0.04153466915410821, -2.0379403435387595, -0.0]"
      ]
     },
     "execution_count": 61,
     "metadata": {},
     "output_type": "execute_result"
    }
   ],
   "source": [
    "#lasso on the entire dataset\n",
    "# alpha= 0 is equivelent to an OLS model \n",
    "from sklearn.linear_model import Lasso\n",
    "lasso = Lasso(alpha=20,fit_intercept=True,max_iter=10000)\n",
    "res = lasso.fit(data_x,data_y)\n",
    "res.coef_.tolist()"
   ]
  },
  {
   "cell_type": "code",
   "execution_count": 32,
   "metadata": {
    "collapsed": true
   },
   "outputs": [],
   "source": [
    "# features 2 and 3 are important ? english and school"
   ]
  },
  {
   "cell_type": "markdown",
   "metadata": {},
   "source": [
    "### OLS"
   ]
  },
  {
   "cell_type": "code",
   "execution_count": 69,
   "metadata": {
    "collapsed": false
   },
   "outputs": [
    {
     "name": "stdout",
     "output_type": "stream",
     "text": [
      "OLS regression coefficients=[  4.64306599e+02   1.16061322e-01  -5.56246426e+00  -7.48981321e+02\n",
      "  -1.10380038e+03]\n",
      "The R-squared we found for in-sample (IS) OLS is: 0.0289045655418\n",
      "The R-squared we found for out-of-sample (OS) OLS is: -30012.4892966\n"
     ]
    }
   ],
   "source": [
    "# In the sample. (Only use training set)\n",
    "result=ols(y=y_train,x=pd.DataFrame(x_train))\n",
    "#print(result.summary_as_matrix.T)\n",
    "R_2_IS=result.r2 # get R2\n",
    "OLS_coef=result.beta\n",
    "#Out of sample\n",
    "a=np.array(x_test) #makes sure conver pd data to np array\n",
    "b=np.array(result.beta) #makes sure conver pd data to np array\n",
    "print('OLS regression coefficients={0}'.format(b))\n",
    "c=np.sum(a*b[0:-1],axis=1)+b[-1] #b is estimated coefficients, a is\n",
    "#prediction data, b[-1] is intercept. This is for predicted y\n",
    "error=y_test-c # y_predict is real value, c is the value we guessed\n",
    "R_2_OS=1-error.var()/y_test.var() # this is out of sample R2\n",
    "print(\"The R-squared we found for in-sample (IS) OLS is: {0}\".format(R_2_IS))\n",
    "print(\"The R-squared we found for out-of-sample (OS) OLS is: {0}\".format(R_2_OS))"
   ]
  },
  {
   "cell_type": "code",
   "execution_count": 70,
   "metadata": {
    "collapsed": true
   },
   "outputs": [],
   "source": [
    "### r-squared off sample is WAY bellow zero - we have an overfitting issue"
   ]
  },
  {
   "cell_type": "markdown",
   "metadata": {},
   "source": [
    "### RIDGE"
   ]
  },
  {
   "cell_type": "code",
   "execution_count": 92,
   "metadata": {
    "collapsed": false
   },
   "outputs": [
    {
     "name": "stdout",
     "output_type": "stream",
     "text": [
      "The R-squared we found for IS Ridge is: 0.0276461785143\n"
     ]
    }
   ],
   "source": [
    "Ridge=linear_model.Ridge(fit_intercept=True,alpha=1) #try Ridge with an arbitrary regularization parameter lambda=1\n",
    "Ridge.fit(x_train,y_train)\n",
    "#In the sample:\n",
    "p_IS=Ridge.predict(x_train)\n",
    "err_IS=p_IS-y_train\n",
    "R_2_IS_Ridge=1-np.var(err_IS)/np.var(y_train)\n",
    "print(\"The R-squared we found for IS Ridge is: {0}\".format(R_2_IS_Ridge))"
   ]
  },
  {
   "cell_type": "code",
   "execution_count": 93,
   "metadata": {
    "collapsed": false
   },
   "outputs": [
    {
     "name": "stdout",
     "output_type": "stream",
     "text": [
      "The R-squared we found for OS Ridge is: -21030.460784\n"
     ]
    }
   ],
   "source": [
    "Ridge_coef=Ridge.coef_\n",
    "#Out of sample\n",
    "p_OS=Ridge.predict(x_test)\n",
    "err_OS=p_OS-y_test\n",
    "R_2_OS_Ridge=1-np.var(err_OS)/np.var(y_test)\n",
    "print(\"The R-squared we found for OS Ridge is: {0}\".format(R_2_OS_Ridge))"
   ]
  },
  {
   "cell_type": "code",
   "execution_count": null,
   "metadata": {
    "collapsed": true
   },
   "outputs": [],
   "source": []
  }
 ],
 "metadata": {
  "kernelspec": {
   "display_name": "Python 2",
   "language": "python",
   "name": "python2"
  },
  "language_info": {
   "codemirror_mode": {
    "name": "ipython",
    "version": 2
   },
   "file_extension": ".py",
   "mimetype": "text/x-python",
   "name": "python",
   "nbconvert_exporter": "python",
   "pygments_lexer": "ipython2",
   "version": "2.7.10"
  }
 },
 "nbformat": 4,
 "nbformat_minor": 0
}
